{
 "cells": [
  {
   "cell_type": "markdown",
   "id": "4a1d5496-36d9-4af3-84b5-646b7e66c45d",
   "metadata": {},
   "source": [
    "# RDkit\n",
    "- 화학 및 분자 과학 연구에서 매우 널리 쓰이는 오픈소스 화학 정보 라이브러리\n",
    "- 분자 구조 처리, 화학 반응 시뮬레이션, 분자 특징 계산, 시각화 등 기능 제공\n"
   ]
  },
  {
   "cell_type": "markdown",
   "id": "dc39117a-5101-482f-920b-b1fa623ce5c7",
   "metadata": {},
   "source": [
    "### Installation"
   ]
  },
  {
   "cell_type": "code",
   "execution_count": null,
   "id": "109b9c64-76eb-4f60-a07c-f3022d54dc3f",
   "metadata": {},
   "outputs": [],
   "source": [
    "!pip install rdkit"
   ]
  },
  {
   "cell_type": "markdown",
   "id": "807d00ba-5292-4902-bec0-69465cfa8121",
   "metadata": {},
   "source": [
    "## Example"
   ]
  },
  {
   "cell_type": "code",
   "execution_count": null,
   "id": "248aae0a-fe78-4326-a891-16e31b937bc4",
   "metadata": {},
   "outputs": [],
   "source": [
    "from rdkit import Chem\n",
    "from rdkit.Chem import Descriptors, Draw\n",
    "\n",
    "smiles = 'CC(=O)Oc1ccccc1C(=O)O' # aspirin\n",
    "\n",
    "# SMILES 문자열로부터 분자 객체 생성\n",
    "mol = Chem.MolFromSmiles(smiles)\n",
    "\n",
    "# 분자 무게 계산\n",
    "mol_weight = Descriptors.MolWt(mol)\n",
    "print(f'Molecular Weight: {mol_weight}')\n",
    "\n",
    "# 분자 시각화\n",
    "Draw.MolToImage(mol)"
   ]
  },
  {
   "cell_type": "code",
   "execution_count": null,
   "id": "c1e042ff-b070-4e37-9e26-0dc614121994",
   "metadata": {},
   "outputs": [],
   "source": [
    "smiles2 = 'c1(ccccc1OC(=O)C)C(=O)O' # another representation of aspirin\n",
    "mol2 = Chem.MolFromSmiles(smiles2)\n",
    "Draw.MolToImage(mol2)"
   ]
  },
  {
   "cell_type": "code",
   "execution_count": null,
   "id": "5cb4fc8c-eaed-45aa-9d94-14b47ba3938a",
   "metadata": {},
   "outputs": [],
   "source": [
    "# canonicalized smiles of aspirin\n",
    "smiles3 = Chem.MolToSmiles(mol2, canonical=True)\n",
    "smiles3"
   ]
  },
  {
   "cell_type": "markdown",
   "id": "18fc72d9-1d0e-4502-9362-d60a854ac7f4",
   "metadata": {},
   "source": [
    "## Working with Pandas"
   ]
  },
  {
   "cell_type": "code",
   "execution_count": null,
   "id": "0fa2c86d-c476-4635-842e-1d3738828161",
   "metadata": {},
   "outputs": [],
   "source": [
    "import pandas as pd"
   ]
  },
  {
   "cell_type": "code",
   "execution_count": null,
   "id": "0c58afcc-8f88-4c42-a45f-dc9868deb1cf",
   "metadata": {},
   "outputs": [],
   "source": [
    "df_src = pd.read_csv('./data/src-train.txt', header=None, names=['source'])\n",
    "df_tgt = pd.read_csv('./data/tgt-train.txt', header=None, names=['target'])\n",
    "df = pd.concat([df_src, df_tgt], axis=1)\n",
    "df"
   ]
  },
  {
   "cell_type": "code",
   "execution_count": null,
   "id": "7cc5aa71-9fe3-4fb8-94f1-26bd595d1349",
   "metadata": {},
   "outputs": [],
   "source": [
    "df['SMILES_src'] = df['source'].str.replace(' ', '')\n",
    "df['SMILES_tgt'] = df['target'].str.replace(' ', '')\n",
    "df"
   ]
  },
  {
   "cell_type": "code",
   "execution_count": null,
   "id": "490b05bc-df47-4890-b039-4a647b3a8ee5",
   "metadata": {},
   "outputs": [],
   "source": [
    "from rdkit.Chem import PandasTools\n",
    "\n",
    "PandasTools.AddMoleculeColumnToFrame(df, smilesCol='SMILES_src', molCol='ROMol_src')\n",
    "PandasTools.AddMoleculeColumnToFrame(df, smilesCol='SMILES_tgt', molCol='ROMol_tgt')"
   ]
  },
  {
   "cell_type": "code",
   "execution_count": null,
   "id": "5b546013-7309-47a6-9a5c-18522c81bbf6",
   "metadata": {},
   "outputs": [],
   "source": [
    "df"
   ]
  }
 ],
 "metadata": {
  "kernelspec": {
   "display_name": "py39",
   "language": "python",
   "name": "py39"
  },
  "language_info": {
   "codemirror_mode": {
    "name": "ipython",
    "version": 3
   },
   "file_extension": ".py",
   "mimetype": "text/x-python",
   "name": "python",
   "nbconvert_exporter": "python",
   "pygments_lexer": "ipython3",
   "version": "3.9.21"
  }
 },
 "nbformat": 4,
 "nbformat_minor": 5
}
